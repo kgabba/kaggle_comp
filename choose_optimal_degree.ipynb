{
 "cells": [
  {
   "cell_type": "code",
   "execution_count": null,
   "id": "3be17eae-0576-4e29-95ce-e7edae190c15",
   "metadata": {},
   "outputs": [],
   "source": [
    "from sklearn.linear_model import LogisticRegression\n",
    "from sklearn.pipeline import Pipeline\n",
    "from sklearn.model_selection import GridSearchCV\n",
    "\n",
    "# Создаем пайплайн из полиномиальных фичей и логистической регрессии\n",
    "pipeline = Pipeline([\n",
    "    ('poly', PolynomialFeatures(include_bias=False)),\n",
    "    ('model', LogisticRegression())\n",
    "])\n",
    "\n",
    "# Подбираем степень полинома\n",
    "param_grid = {'poly__degree': [1, 2, 3, 4]}\n",
    "grid = GridSearchCV(pipeline, param_grid, cv=5)\n",
    "grid.fit(X_train, y_train)\n",
    "\n",
    "# Лучшая степень\n",
    "print(grid.best_params_)\n"
   ]
  }
 ],
 "metadata": {
  "kernelspec": {
   "display_name": "Python 3 (ipykernel)",
   "language": "python",
   "name": "python3"
  },
  "language_info": {
   "codemirror_mode": {
    "name": "ipython",
    "version": 3
   },
   "file_extension": ".py",
   "mimetype": "text/x-python",
   "name": "python",
   "nbconvert_exporter": "python",
   "pygments_lexer": "ipython3",
   "version": "3.11.7"
  }
 },
 "nbformat": 4,
 "nbformat_minor": 5
}
