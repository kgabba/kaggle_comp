{
 "cells": [
  {
   "cell_type": "code",
   "execution_count": 1,
   "id": "1abd195d-273f-4c1b-810c-84de7fce1d24",
   "metadata": {},
   "outputs": [],
   "source": [
    "import os"
   ]
  },
  {
   "cell_type": "code",
   "execution_count": 6,
   "id": "26ef2703-ac5a-4b18-a844-49c58ea40bb8",
   "metadata": {},
   "outputs": [
    {
     "data": {
      "text/plain": [
       "'C:\\\\kaggle_comp'"
      ]
     },
     "execution_count": 6,
     "metadata": {},
     "output_type": "execute_result"
    }
   ],
   "source": [
    "os.getcwd()"
   ]
  },
  {
   "cell_type": "code",
   "execution_count": 5,
   "id": "5aaa9102-d1a5-4d23-8a4d-1ecefca38065",
   "metadata": {},
   "outputs": [],
   "source": [
    "os.chdir('C:/kaggle_comp')"
   ]
  },
  {
   "cell_type": "code",
   "execution_count": null,
   "id": "192bfce8-c0cd-4fd5-aa3f-6829be028f6d",
   "metadata": {},
   "outputs": [],
   "source": []
  },
  {
   "cell_type": "code",
   "execution_count": null,
   "id": "c972a29f-e40b-44a4-9eea-9d82c3ad34e5",
   "metadata": {},
   "outputs": [],
   "source": []
  }
 ],
 "metadata": {
  "kernelspec": {
   "display_name": "Python 3 (ipykernel)",
   "language": "python",
   "name": "python3"
  },
  "language_info": {
   "codemirror_mode": {
    "name": "ipython",
    "version": 3
   },
   "file_extension": ".py",
   "mimetype": "text/x-python",
   "name": "python",
   "nbconvert_exporter": "python",
   "pygments_lexer": "ipython3",
   "version": "3.11.7"
  }
 },
 "nbformat": 4,
 "nbformat_minor": 5
}
